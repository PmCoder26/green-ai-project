{
 "cells": [
  {
   "cell_type": "code",
   "execution_count": 10,
   "id": "1e2450a3",
   "metadata": {},
   "outputs": [
    {
     "name": "stdout",
     "output_type": "stream",
     "text": [
      "Fruits before removing the last:  ['Apple', 'Banana', 'Cherry', 'Date', 'Elderberry']\n",
      "Fruits after removing the last:  ['Apple', 'Banana', 'Cherry', 'Date']\n",
      "Fruits after appending a new fruit:  ['Apple', 'Banana', 'Cherry', 'Date', 'Blackberry']\n"
     ]
    }
   ],
   "source": [
    "fruits = [\"Apple\", \"Banana\", \"Cherry\", \"Date\", \"Elderberry\"]\n",
    "print(\"Fruits before removing the last: \", fruits)\n",
    "fruits.pop()\n",
    "print(\"Fruits after removing the last: \", fruits)\n",
    "fruits.append(\"Blackberry\")\n",
    "print(\"Fruits after appending a new fruit: \", fruits)"
   ]
  },
  {
   "cell_type": "code",
   "execution_count": 14,
   "id": "f97997cd",
   "metadata": {},
   "outputs": [
    {
     "name": "stdout",
     "output_type": "stream",
     "text": [
      "Fruits tupple: ('Apple', 'Banana', 'Cheery', 'Date', 'BlueBerry')\n"
     ]
    }
   ],
   "source": [
    "fruitsTupple = ('Apple', 'Banana', 'Cheery', 'Date', 'BlueBerry')\n",
    "print(\"Fruits tupple:\", fruitsTupple)"
   ]
  },
  {
   "cell_type": "code",
   "execution_count": 35,
   "id": "5d55fa86",
   "metadata": {},
   "outputs": [
    {
     "name": "stdout",
     "output_type": "stream",
     "text": [
      "My favorite car is: {'Name': 'Grand Vitara', 'Brand': 'Maruti Suzuki', 'Color': 'Blue'}\n"
     ]
    }
   ],
   "source": [
    "car = {\n",
    "    'Name': 'Grand Vitara',\n",
    "    'Brand': 'Maruti Suzuki',\n",
    "    'Color': 'Blue'\n",
    "}\n",
    "print(\"My favorite car is:\", car)"
   ]
  },
  {
   "cell_type": "code",
   "execution_count": 36,
   "id": "32e55873",
   "metadata": {},
   "outputs": [
    {
     "name": "stdout",
     "output_type": "stream",
     "text": [
      "Keys in the dictionary: dict_keys(['Name', 'Brand', 'Color'])\n",
      "Values in the dictionary: dict_values(['Grand Vitara', 'Maruti Suzuki', 'Blue'])\n",
      "**************************************\n",
      "Key: Name , Value: Grand Vitara\n",
      "Key: Brand , Value: Maruti Suzuki\n",
      "Key: Color , Value: Blue\n",
      "**************************************\n"
     ]
    }
   ],
   "source": [
    "print(\"Keys in the dictionary:\", car.keys())\n",
    "print(\"Values in the dictionary:\", car.values())\n",
    "print(\"**************************************\")\n",
    "for key, value in car.items():\n",
    "    print(\"Key:\", key, \", Value:\", value)\n",
    "print(\"**************************************\")"
   ]
  },
  {
   "cell_type": "code",
   "execution_count": 37,
   "id": "c72ca0c2",
   "metadata": {},
   "outputs": [
    {
     "name": "stdout",
     "output_type": "stream",
     "text": [
      "Car name is: Grand Vitara\n"
     ]
    }
   ],
   "source": [
    "# accessing the values using .get()\n",
    "print(\"Car name is:\", car.get('Name'))"
   ]
  },
  {
   "cell_type": "code",
   "execution_count": 38,
   "id": "32a82ec8",
   "metadata": {},
   "outputs": [
    {
     "name": "stdout",
     "output_type": "stream",
     "text": [
      "Car name before modifying: Grand Vitara\n",
      "Car name after modifying: Ertiga\n"
     ]
    }
   ],
   "source": [
    "# modifying the value.\n",
    "print(\"Car name before modifying:\", car.get('Name'))\n",
    "car['Name'] = 'Ertiga'\n",
    "print(\"Car name after modifying:\", car.get('Name'))"
   ]
  },
  {
   "cell_type": "code",
   "execution_count": 39,
   "id": "9a1c0df7",
   "metadata": {},
   "outputs": [
    {
     "name": "stdout",
     "output_type": "stream",
     "text": [
      "Car before deleting color: {'Name': 'Ertiga', 'Brand': 'Maruti Suzuki', 'Color': 'Blue'}\n",
      "Car after deleting color: {'Name': 'Ertiga', 'Brand': 'Maruti Suzuki'}\n"
     ]
    }
   ],
   "source": [
    "# deleting the element(key and value) using 'del'\n",
    "print(\"Car before deleting color:\", car)\n",
    "del car['Color']\n",
    "print(\"Car after deleting color:\", car)"
   ]
  },
  {
   "cell_type": "code",
   "execution_count": 40,
   "id": "ea9bd6bc",
   "metadata": {},
   "outputs": [
    {
     "name": "stdout",
     "output_type": "stream",
     "text": [
      "Car before deleting color: {'Name': 'Ertiga', 'Brand': 'Maruti Suzuki'}\n"
     ]
    },
    {
     "ename": "KeyError",
     "evalue": "'Color'",
     "output_type": "error",
     "traceback": [
      "\u001b[31m---------------------------------------------------------------------------\u001b[39m",
      "\u001b[31mKeyError\u001b[39m                                  Traceback (most recent call last)",
      "\u001b[36mCell\u001b[39m\u001b[36m \u001b[39m\u001b[32mIn[40]\u001b[39m\u001b[32m, line 3\u001b[39m\n\u001b[32m      1\u001b[39m \u001b[38;5;66;03m# deleting the element(key and value) using .pop()\u001b[39;00m\n\u001b[32m      2\u001b[39m \u001b[38;5;28mprint\u001b[39m(\u001b[33m\"\u001b[39m\u001b[33mCar before deleting color:\u001b[39m\u001b[33m\"\u001b[39m, car)\n\u001b[32m----> \u001b[39m\u001b[32m3\u001b[39m \u001b[43mcar\u001b[49m\u001b[43m.\u001b[49m\u001b[43mpop\u001b[49m\u001b[43m(\u001b[49m\u001b[33;43m'\u001b[39;49m\u001b[33;43mColor\u001b[39;49m\u001b[33;43m'\u001b[39;49m\u001b[43m)\u001b[49m\n\u001b[32m      4\u001b[39m \u001b[38;5;28mprint\u001b[39m(\u001b[33m\"\u001b[39m\u001b[33mCar after deleting color:\u001b[39m\u001b[33m\"\u001b[39m, car)\n",
      "\u001b[31mKeyError\u001b[39m: 'Color'"
     ]
    }
   ],
   "source": [
    "# deleting the element(key and value) using .pop()\n",
    "print(\"Car before deleting color:\", car)\n",
    "car.pop('Color')\n",
    "print(\"Car after deleting color:\", car)"
   ]
  },
  {
   "cell_type": "code",
   "execution_count": 41,
   "id": "537281b7",
   "metadata": {},
   "outputs": [
    {
     "name": "stdout",
     "output_type": "stream",
     "text": [
      "My set is: {1, 2, 3, 4, 5}\n"
     ]
    }
   ],
   "source": [
    "# set and its operations.\n",
    "# Method-1.\n",
    "# my_set = set([1, 2, 3, 4, 5, 5, 3])\n",
    "# Method-2\n",
    "my_set = {1, 2, 3, 4, 5, 5, 3}\n",
    "print(\"My set is:\", my_set)"
   ]
  },
  {
   "cell_type": "code",
   "execution_count": 43,
   "id": "b1847ee9",
   "metadata": {},
   "outputs": [
    {
     "name": "stdout",
     "output_type": "stream",
     "text": [
      "Set before adding: {1, 2, 3, 4, 5, 10}\n",
      "Set after adding: {1, 2, 3, 4, 5, 10}\n"
     ]
    }
   ],
   "source": [
    "# adding element in the set.\n",
    "print(\"Set before adding:\", my_set)\n",
    "my_set.add(10)\n",
    "print(\"Set after adding:\", my_set)"
   ]
  },
  {
   "cell_type": "code",
   "execution_count": 45,
   "id": "b30456b1",
   "metadata": {},
   "outputs": [
    {
     "name": "stdout",
     "output_type": "stream",
     "text": [
      "Set before removing: {1, 2, 3, 4, 5, 10}\n",
      "Set after removing: {1, 2, 4, 5, 10}\n"
     ]
    }
   ],
   "source": [
    "# removing element from the set.\n",
    "print(\"Set before removing:\", my_set)\n",
    "my_set.remove(3)\n",
    "print(\"Set after removing:\", my_set)"
   ]
  },
  {
   "cell_type": "code",
   "execution_count": 47,
   "id": "aed7b295",
   "metadata": {},
   "outputs": [
    {
     "name": "stdout",
     "output_type": "stream",
     "text": [
      "Set before clearing: set()\n",
      "Set after clearing: set()\n"
     ]
    }
   ],
   "source": [
    "# clearing the set.\n",
    "print(\"Set before clearing:\", my_set)\n",
    "my_set.clear()\n",
    "print(\"Set after clearing:\", my_set)"
   ]
  },
  {
   "cell_type": "code",
   "execution_count": 49,
   "id": "7bd7b296",
   "metadata": {},
   "outputs": [
    {
     "name": "stdout",
     "output_type": "stream",
     "text": [
      "Union is: {1, 2, 3, 4, 5, 6, 7, 8}\n"
     ]
    }
   ],
   "source": [
    "# Union of sets.\n",
    "set_a = set([1, 2, 3, 4, 5])\n",
    "set_b = set([4, 5, 6, 7, 8])\n",
    "\n",
    "# print(\"Union is:\", set_a | set_b) \n",
    "                # Or\n",
    "print(\"Union is:\", set_a.union(set_b))                "
   ]
  },
  {
   "cell_type": "code",
   "execution_count": 59,
   "id": "8143b933",
   "metadata": {},
   "outputs": [
    {
     "name": "stdout",
     "output_type": "stream",
     "text": [
      "Intersection is: {4, 5}\n"
     ]
    }
   ],
   "source": [
    "# Intersection of sets.\n",
    "# print(\"Intersection is:\", set_a & set_b)\n",
    "                # Or\n",
    "print(\"Intersection is:\", set_a.intersection(set_b))"
   ]
  },
  {
   "cell_type": "code",
   "execution_count": 66,
   "id": "eba61a71",
   "metadata": {},
   "outputs": [
    {
     "name": "stdout",
     "output_type": "stream",
     "text": [
      "Difference is: {1, 2, 3}\n",
      "Difference is: {1, 2, 3}\n"
     ]
    }
   ],
   "source": [
    "# Difference of sets.\n",
    "print(\"Difference is:\", set_a - set_b)\n",
    "                # Or\n",
    "print(\"Difference is:\", set_a.difference(set_b))"
   ]
  },
  {
   "cell_type": "code",
   "execution_count": null,
   "id": "b84ddf4f",
   "metadata": {},
   "outputs": [],
   "source": []
  },
  {
   "cell_type": "code",
   "execution_count": 50,
   "id": "a9a81f7b",
   "metadata": {},
   "outputs": [
    {
     "name": "stdout",
     "output_type": "stream",
     "text": [
      "2, 4, 6, 8, 10, 12, 14, 16, 18, 20, 22, 24, 26, 28, 30, 32, 34, 36, 38, 40, 42, 44, 46, 48, 50, "
     ]
    }
   ],
   "source": [
    "def printEvens(a, b):\n",
    "    while(a <= b):\n",
    "        if(a % 2 == 0):\n",
    "            print(a, end=', ')\n",
    "        a += 1\n",
    "\n",
    "printEvens(1, 50)"
   ]
  },
  {
   "cell_type": "code",
   "execution_count": null,
   "id": "03c50252",
   "metadata": {},
   "outputs": [],
   "source": []
  },
  {
   "cell_type": "code",
   "execution_count": 54,
   "id": "96b2c671",
   "metadata": {},
   "outputs": [],
   "source": [
    "college_name = \"Progressive Education Society's Modern College of Engineering\""
   ]
  },
  {
   "cell_type": "code",
   "execution_count": 55,
   "id": "4ae5a57e",
   "metadata": {},
   "outputs": [
    {
     "name": "stdout",
     "output_type": "stream",
     "text": [
      "P r g r s s v   E d c t n   S c t y ' s   M d r n   C l l g   f   E n g n r n g "
     ]
    }
   ],
   "source": [
    "def print_consonents(name):\n",
    "    vowels = ['a', 'e', 'i', 'o', 'u']\n",
    "    for c in name:\n",
    "        if c not in vowels:\n",
    "            print(c, end=' ')\n",
    "\n",
    "print_consonents(college_name)"
   ]
  },
  {
   "cell_type": "code",
   "execution_count": 67,
   "id": "9fb78b27",
   "metadata": {},
   "outputs": [
    {
     "name": "stdout",
     "output_type": "stream",
     "text": [
      "9 x 1 = 9\n",
      "9 x 2 = 18\n",
      "9 x 3 = 27\n",
      "9 x 4 = 36\n",
      "9 x 5 = 45\n",
      "9 x 6 = 54\n",
      "9 x 7 = 63\n",
      "9 x 8 = 72\n",
      "9 x 9 = 81\n",
      "9 x 10 = 90\n"
     ]
    }
   ],
   "source": [
    "def printTable(n):\n",
    "    for i in range(1, 11):\n",
    "        print(n, \"x\", i, \"=\", n * i)\n",
    "\n",
    "printTable(9)"
   ]
  },
  {
   "cell_type": "code",
   "execution_count": null,
   "id": "bcfa4592",
   "metadata": {},
   "outputs": [],
   "source": []
  }
 ],
 "metadata": {
  "kernelspec": {
   "display_name": ".venv",
   "language": "python",
   "name": "python3"
  },
  "language_info": {
   "codemirror_mode": {
    "name": "ipython",
    "version": 3
   },
   "file_extension": ".py",
   "mimetype": "text/x-python",
   "name": "python",
   "nbconvert_exporter": "python",
   "pygments_lexer": "ipython3",
   "version": "3.12.3"
  }
 },
 "nbformat": 4,
 "nbformat_minor": 5
}
